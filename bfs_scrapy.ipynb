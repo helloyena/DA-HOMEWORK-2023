{
 "cells": [
  {
   "attachments": {},
   "cell_type": "markdown",
   "metadata": {},
   "source": [
    "### 0.准备"
   ]
  },
  {
   "cell_type": "code",
   "execution_count": 52,
   "metadata": {},
   "outputs": [],
   "source": [
    "import re\n",
    "import requests\n",
    "from requests.exceptions import ReadTimeout, ConnectionError, RequestException\n",
    "import urllib3"
   ]
  },
  {
   "cell_type": "code",
   "execution_count": 53,
   "metadata": {},
   "outputs": [],
   "source": [
    "# 使用requests访问https时会有SSL验证，需要在get方法时关闭验证，同时会显示警告\n",
    "urllib3.disable_warnings() # 消除警告"
   ]
  },
  {
   "attachments": {},
   "cell_type": "markdown",
   "metadata": {},
   "source": [
    "### 1.第一部分，爬取主页面"
   ]
  },
  {
   "cell_type": "code",
   "execution_count": 29,
   "metadata": {},
   "outputs": [],
   "source": [
    "headers = {'User-Agent': 'Mozilla/5.0 (Windows NT 10.0; Win64; x64) AppleWebKit/537.36 (KHTML, like Gecko) Chrome/87.0.4280.67 Safari/537.36 Edg/87.0.664.47'}\n",
    "req = requests.get(\"http://www.las.cas.cn/\", verify=False, timeout=5,headers=headers)"
   ]
  },
  {
   "cell_type": "code",
   "execution_count": 32,
   "metadata": {},
   "outputs": [],
   "source": [
    "#对结果编码\n",
    "req.encoding = 'UTF-8'"
   ]
  },
  {
   "cell_type": "code",
   "execution_count": 50,
   "metadata": {},
   "outputs": [
    {
     "name": "stdout",
     "output_type": "stream",
     "text": [
      "        中国科学院文献情报中心\n"
     ]
    }
   ],
   "source": [
    "#提取页面title\n",
    "title = re.findall(r'title>\\n(.*?)\\n',req.text,re.S)\n",
    "print(title[0])"
   ]
  },
  {
   "cell_type": "code",
   "execution_count": 37,
   "metadata": {},
   "outputs": [
    {
     "name": "stdout",
     "output_type": "stream",
     "text": [
      "['zh-CN']\n"
     ]
    }
   ],
   "source": [
    "#提取页面语种\n",
    "languague = re.findall('lang=\"(.+)\"',req.text)\n",
    "print(languague)"
   ]
  },
  {
   "cell_type": "code",
   "execution_count": 51,
   "metadata": {},
   "outputs": [],
   "source": [
    "#保存html文件\n",
    "fileOb = open('las.html','w',encoding='utf-8')     #存入本地\n",
    "fileOb.write(req.text)\n",
    "fileOb.close()"
   ]
  },
  {
   "attachments": {},
   "cell_type": "markdown",
   "metadata": {},
   "source": [
    "### 2.第二部分，深度遍历页面内的子链接并爬虫"
   ]
  },
  {
   "cell_type": "code",
   "execution_count": 54,
   "metadata": {},
   "outputs": [],
   "source": [
    "visited = [] # 已经爬过的url列表。\n",
    "unvisited = [] # 已经取出的、但是还没有访问的的url\n",
    "url_count = 0 # 已经访问过的url数量\n",
    "END_COUNT = 30 # 总共需要访问的url数量\n",
    "end_flag = False # url_count >= END_COUNT结束"
   ]
  },
  {
   "cell_type": "code",
   "execution_count": 4,
   "metadata": {},
   "outputs": [],
   "source": [
    "# 访问页面：提取页面里包含的url\n",
    "def visit(url, depth):\n",
    "    visited.append(url) # 当前url加入已爬过列表\n",
    "    try:\n",
    "        req = requests.get(url, verify=False, timeout=5) \n",
    "        # verify参数：关闭SSL验证\n",
    "    #处理可能存在的异常情况\n",
    "    except ReadTimeout: # 超时异常，则把当前的 url 放到队列中，稍微重试\n",
    "        print('Timeout: ', url)\n",
    "    except ConnectionError: # 连接异常\n",
    "        print('Connection error: ', url)\n",
    "    except RequestException: # 请求异常\n",
    "        print('Error: ', url)\n",
    "    else:\n",
    "        if req.status_code == 404:\n",
    "            print('404页面不存在: ', url)\n",
    "            ## 把当前的 url 从爬虫任务中删除掉\n",
    "        if req.status_code == 403:\n",
    "            print('403页面禁止访问: ', url)\n",
    "            ## ... \n",
    "        if req.status_code == 200:\n",
    "            # 如果正确访问，count+1；判断是否要结束\n",
    "            global url_count\n",
    "            global end_flag\n",
    "            url_count += 1\n",
    "            if url_count >= END_COUNT:\n",
    "                end_flag = True\n",
    "            print(\"\\t\"*depth, \"#%d-%d %s\"%(depth, url_count, url))\n",
    "            PATTERN_URl = \"<a.*href=\\\"(https?://.*?)[\\\"|\\'].*\"\n",
    "            ulist = re.findall(PATTERN_URl, req.text)\n",
    "            ulist = [url for url in ulist if url.find(\".pdf\") == -1 ] # 跳过pdf文件\n",
    "            return ulist\n",
    "    return None"
   ]
  },
  {
   "cell_type": "code",
   "execution_count": 5,
   "metadata": {},
   "outputs": [],
   "source": [
    "# 深度遍历\n",
    "def dfs(url, depth=1):\n",
    "    ulist = visit(url, depth)\n",
    "    if ulist:\n",
    "        ulist = list(set(ulist)-set(visited)) \n",
    "        # 局部变量ulist局部变量，指一个节点的所有子节点\n",
    "        for url in ulist:\n",
    "            if depth<2 and not end_flag: # 只访问1、2层（根节点是第0层）\n",
    "                dfs(url, depth+1)\n"
   ]
  },
  {
   "cell_type": "code",
   "execution_count": 55,
   "metadata": {},
   "outputs": [
    {
     "name": "stdout",
     "output_type": "stream",
     "text": [
      " #0 http://www.las.cas.cn/\n",
      "\t #1-1 http://www.las.cas.cn/\n",
      "Connection error:  https://chaxin.las.ac.cn/\n",
      "\t\t #2-2 https://bszs.conac.cn/sitename?method=show&id=08E6211A04C21453E053012819ACFCA4\n",
      "\t\t #2-3 http://www.las.cas.cn/jb/\n",
      "Connection error:  http://stpaper.cn/\n",
      "\t\t #2-4 http://www.las.cas.cn/party/\n",
      "\t\t #2-5 https://las.arp.cn/\n",
      "Connection error:  http://whcb.las.ac.cn/\n",
      "\t\t #2-6 https://www.cas.cn/zt/hyzt/2020jldh/\n",
      "\t\t #2-7 https://www.cas.cn/zt/kjzt/2021nzkjpd/\n",
      "Connection error:  https://www.las.ac.cn/\n",
      "\t\t #2-8 http://sciencechina.cn/\n",
      "\t\t #2-9 https://www.cas.cn/zt/kjzt/liangdianshaixuan2021_3/\n",
      "\t\t #2-10 http://www.clas.cas.cn/\n",
      "\t\t #2-11 http://www.casmooc.cn/\n",
      "\t\t #2-12 http://www.whlib.ac.cn/\n",
      "\t\t #2-13 https://www.cas.cn/zt/kjzt/cewhcg/\n",
      "\t\t #2-14 https://www.cas.cn/zt/hyzt/cas2023gzh/\n",
      "Connection error:  http://opac.las.ac.cn/\n",
      "Connection error:  http://workflow.las.ac.cn/\n",
      "\t\t #2-15 https://mail.cstnet.cn/\n",
      "\t\t #2-16 https://www.cas.cn/zt/kjzt/sswcj/\n",
      "\t\t #2-17 http://www.fenqubiao.com/\n"
     ]
    }
   ],
   "source": [
    "if __name__ == '__main__':\n",
    "    start_url = \"http://www.las.cas.cn/\"\n",
    "    print(\"\\t\"*0, \"#%d %s\"%(0, start_url))\n",
    "    dfs(start_url)"
   ]
  }
 ],
 "metadata": {
  "kernelspec": {
   "display_name": "base",
   "language": "python",
   "name": "python3"
  },
  "language_info": {
   "codemirror_mode": {
    "name": "ipython",
    "version": 3
   },
   "file_extension": ".py",
   "mimetype": "text/x-python",
   "name": "python",
   "nbconvert_exporter": "python",
   "pygments_lexer": "ipython3",
   "version": "3.9.7"
  },
  "orig_nbformat": 4
 },
 "nbformat": 4,
 "nbformat_minor": 2
}
